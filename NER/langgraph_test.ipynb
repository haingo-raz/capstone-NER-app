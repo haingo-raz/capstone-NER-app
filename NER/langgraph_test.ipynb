{
 "cells": [
  {
   "metadata": {},
   "cell_type": "code",
   "outputs": [],
   "execution_count": null,
   "source": [
    "# %%capture --no-stderr\n",
    "#%pip install -U langgraph langsmith\n",
    "\n",
    "# Used for this tutorial; not a requirement for LangGraph\n",
    "#%pip install openai langchain"
   ],
   "id": "3f99874cf1131da"
  },
  {
   "metadata": {
    "ExecuteTime": {
     "end_time": "2024-08-03T01:21:30.261151Z",
     "start_time": "2024-08-03T01:21:14.739368Z"
    }
   },
   "cell_type": "code",
   "source": "#%pip install --upgrade openai langchain",
   "id": "62f3f52562af3b0d",
   "outputs": [
    {
     "name": "stdout",
     "output_type": "stream",
     "text": [
      "Requirement already satisfied: openai in c:\\users\\xipan\\anaconda3\\envs\\capstone\\lib\\site-packages (1.35.10)\n",
      "Collecting openai\n",
      "  Downloading openai-1.38.0-py3-none-any.whl.metadata (22 kB)\n",
      "Requirement already satisfied: langchain in c:\\users\\xipan\\anaconda3\\envs\\capstone\\lib\\site-packages (0.2.12)\n",
      "Requirement already satisfied: anyio<5,>=3.5.0 in c:\\users\\xipan\\anaconda3\\envs\\capstone\\lib\\site-packages (from openai) (4.2.0)\n",
      "Requirement already satisfied: distro<2,>=1.7.0 in c:\\users\\xipan\\anaconda3\\envs\\capstone\\lib\\site-packages (from openai) (1.9.0)\n",
      "Requirement already satisfied: httpx<1,>=0.23.0 in c:\\users\\xipan\\anaconda3\\envs\\capstone\\lib\\site-packages (from openai) (0.26.0)\n",
      "Requirement already satisfied: pydantic<3,>=1.9.0 in c:\\users\\xipan\\anaconda3\\envs\\capstone\\lib\\site-packages (from openai) (2.5.3)\n",
      "Requirement already satisfied: sniffio in c:\\users\\xipan\\anaconda3\\envs\\capstone\\lib\\site-packages (from openai) (1.3.0)\n",
      "Requirement already satisfied: tqdm>4 in c:\\users\\xipan\\anaconda3\\envs\\capstone\\lib\\site-packages (from openai) (4.66.4)\n",
      "Requirement already satisfied: typing-extensions<5,>=4.7 in c:\\users\\xipan\\anaconda3\\envs\\capstone\\lib\\site-packages (from openai) (4.11.0)\n",
      "Requirement already satisfied: PyYAML>=5.3 in c:\\users\\xipan\\anaconda3\\envs\\capstone\\lib\\site-packages (from langchain) (6.0.1)\n",
      "Requirement already satisfied: SQLAlchemy<3,>=1.4 in c:\\users\\xipan\\anaconda3\\envs\\capstone\\lib\\site-packages (from langchain) (2.0.31)\n",
      "Requirement already satisfied: aiohttp<4.0.0,>=3.8.3 in c:\\users\\xipan\\anaconda3\\envs\\capstone\\lib\\site-packages (from langchain) (3.10.0)\n",
      "Requirement already satisfied: langchain-core<0.3.0,>=0.2.27 in c:\\users\\xipan\\anaconda3\\envs\\capstone\\lib\\site-packages (from langchain) (0.2.28)\n",
      "Requirement already satisfied: langchain-text-splitters<0.3.0,>=0.2.0 in c:\\users\\xipan\\anaconda3\\envs\\capstone\\lib\\site-packages (from langchain) (0.2.2)\n",
      "Requirement already satisfied: langsmith<0.2.0,>=0.1.17 in c:\\users\\xipan\\anaconda3\\envs\\capstone\\lib\\site-packages (from langchain) (0.1.96)\n",
      "Requirement already satisfied: numpy<2,>=1 in c:\\users\\xipan\\anaconda3\\envs\\capstone\\lib\\site-packages (from langchain) (1.26.4)\n",
      "Requirement already satisfied: requests<3,>=2 in c:\\users\\xipan\\anaconda3\\envs\\capstone\\lib\\site-packages (from langchain) (2.32.2)\n",
      "Requirement already satisfied: tenacity!=8.4.0,<9.0.0,>=8.1.0 in c:\\users\\xipan\\anaconda3\\envs\\capstone\\lib\\site-packages (from langchain) (8.2.2)\n",
      "Requirement already satisfied: aiohappyeyeballs>=2.3.0 in c:\\users\\xipan\\anaconda3\\envs\\capstone\\lib\\site-packages (from aiohttp<4.0.0,>=3.8.3->langchain) (2.3.4)\n",
      "Requirement already satisfied: aiosignal>=1.1.2 in c:\\users\\xipan\\anaconda3\\envs\\capstone\\lib\\site-packages (from aiohttp<4.0.0,>=3.8.3->langchain) (1.3.1)\n",
      "Requirement already satisfied: attrs>=17.3.0 in c:\\users\\xipan\\anaconda3\\envs\\capstone\\lib\\site-packages (from aiohttp<4.0.0,>=3.8.3->langchain) (23.1.0)\n",
      "Requirement already satisfied: frozenlist>=1.1.1 in c:\\users\\xipan\\anaconda3\\envs\\capstone\\lib\\site-packages (from aiohttp<4.0.0,>=3.8.3->langchain) (1.4.1)\n",
      "Requirement already satisfied: multidict<7.0,>=4.5 in c:\\users\\xipan\\anaconda3\\envs\\capstone\\lib\\site-packages (from aiohttp<4.0.0,>=3.8.3->langchain) (6.0.5)\n",
      "Requirement already satisfied: yarl<2.0,>=1.0 in c:\\users\\xipan\\anaconda3\\envs\\capstone\\lib\\site-packages (from aiohttp<4.0.0,>=3.8.3->langchain) (1.9.4)\n",
      "Requirement already satisfied: idna>=2.8 in c:\\users\\xipan\\anaconda3\\envs\\capstone\\lib\\site-packages (from anyio<5,>=3.5.0->openai) (3.7)\n",
      "Requirement already satisfied: certifi in c:\\users\\xipan\\anaconda3\\envs\\capstone\\lib\\site-packages (from httpx<1,>=0.23.0->openai) (2024.7.4)\n",
      "Requirement already satisfied: httpcore==1.* in c:\\users\\xipan\\anaconda3\\envs\\capstone\\lib\\site-packages (from httpx<1,>=0.23.0->openai) (1.0.2)\n",
      "Requirement already satisfied: h11<0.15,>=0.13 in c:\\users\\xipan\\anaconda3\\envs\\capstone\\lib\\site-packages (from httpcore==1.*->httpx<1,>=0.23.0->openai) (0.14.0)\n",
      "Requirement already satisfied: jsonpatch<2.0,>=1.33 in c:\\users\\xipan\\anaconda3\\envs\\capstone\\lib\\site-packages (from langchain-core<0.3.0,>=0.2.27->langchain) (1.33)\n",
      "Requirement already satisfied: packaging<25,>=23.2 in c:\\users\\xipan\\anaconda3\\envs\\capstone\\lib\\site-packages (from langchain-core<0.3.0,>=0.2.27->langchain) (23.2)\n",
      "Requirement already satisfied: orjson<4.0.0,>=3.9.14 in c:\\users\\xipan\\anaconda3\\envs\\capstone\\lib\\site-packages (from langsmith<0.2.0,>=0.1.17->langchain) (3.10.6)\n",
      "Requirement already satisfied: annotated-types>=0.4.0 in c:\\users\\xipan\\anaconda3\\envs\\capstone\\lib\\site-packages (from pydantic<3,>=1.9.0->openai) (0.6.0)\n",
      "Requirement already satisfied: pydantic-core==2.14.6 in c:\\users\\xipan\\anaconda3\\envs\\capstone\\lib\\site-packages (from pydantic<3,>=1.9.0->openai) (2.14.6)\n",
      "Requirement already satisfied: charset-normalizer<4,>=2 in c:\\users\\xipan\\anaconda3\\envs\\capstone\\lib\\site-packages (from requests<3,>=2->langchain) (2.0.4)\n",
      "Requirement already satisfied: urllib3<3,>=1.21.1 in c:\\users\\xipan\\anaconda3\\envs\\capstone\\lib\\site-packages (from requests<3,>=2->langchain) (2.2.1)\n",
      "Requirement already satisfied: greenlet!=0.4.17 in c:\\users\\xipan\\anaconda3\\envs\\capstone\\lib\\site-packages (from SQLAlchemy<3,>=1.4->langchain) (3.0.3)\n",
      "Requirement already satisfied: colorama in c:\\users\\xipan\\anaconda3\\envs\\capstone\\lib\\site-packages (from tqdm>4->openai) (0.4.6)\n",
      "Requirement already satisfied: jsonpointer>=1.9 in c:\\users\\xipan\\anaconda3\\envs\\capstone\\lib\\site-packages (from jsonpatch<2.0,>=1.33->langchain-core<0.3.0,>=0.2.27->langchain) (3.0.0)\n",
      "Downloading openai-1.38.0-py3-none-any.whl (335 kB)\n",
      "   ---------------------------------------- 0.0/335.9 kB ? eta -:--:--\n",
      "   - -------------------------------------- 10.2/335.9 kB ? eta -:--:--\n",
      "   ---- ---------------------------------- 41.0/335.9 kB 495.5 kB/s eta 0:00:01\n",
      "   ---------------------------- ----------- 235.5/335.9 kB 2.4 MB/s eta 0:00:01\n",
      "   ---------------------------------------- 335.9/335.9 kB 2.6 MB/s eta 0:00:00\n",
      "Installing collected packages: openai\n",
      "  Attempting uninstall: openai\n",
      "    Found existing installation: openai 1.35.10\n",
      "    Uninstalling openai-1.35.10:\n",
      "      Successfully uninstalled openai-1.35.10\n",
      "Successfully installed openai-1.38.0\n",
      "Note: you may need to restart the kernel to use updated packages.\n"
     ]
    }
   ],
   "execution_count": 3
  },
  {
   "metadata": {
    "ExecuteTime": {
     "end_time": "2024-08-03T02:43:00.633074Z",
     "start_time": "2024-08-03T02:43:00.625436Z"
    }
   },
   "cell_type": "code",
   "source": [
    "import getpass\n",
    "import os\n",
    "from langchain_openai import ChatOpenAI\n",
    "\n",
    "os.environ[\"OPENAI_API_KEY\"] = os.getenv(\"OPENAI_API_KEY\")"
   ],
   "id": "f29ab1d76ed5ee25",
   "outputs": [],
   "execution_count": 20
  },
  {
   "metadata": {
    "ExecuteTime": {
     "end_time": "2024-08-03T02:43:16.247358Z",
     "start_time": "2024-08-03T02:43:14.055738Z"
    }
   },
   "cell_type": "code",
   "source": [
    "_set_env(\"LANGSMITH_API_KEY\")\n",
    "os.environ[\"LANGCHAIN_TRACING_V2\"] = \"true\"\n",
    "os.environ[\"LANGCHAIN_PROJECT\"] = \"LangGraph Tutorial\""
   ],
   "id": "ddabbb4bd295f2ba",
   "outputs": [],
   "execution_count": 21
  },
  {
   "metadata": {
    "ExecuteTime": {
     "end_time": "2024-08-03T02:43:16.264588Z",
     "start_time": "2024-08-03T02:43:16.251379Z"
    }
   },
   "cell_type": "code",
   "source": [
    "from typing import Annotated\n",
    "\n",
    "from typing_extensions import TypedDict\n",
    "\n",
    "from langgraph.graph import StateGraph, START, END\n",
    "from langgraph.graph.message import add_messages\n",
    "\n",
    "\n",
    "class State(TypedDict):\n",
    "    # Messages have the type \"list\". The `add_messages` function\n",
    "    # in the annotation defines how this state key should be updated\n",
    "    # (in this case, it appends messages to the list, rather than overwriting them)\n",
    "    messages: Annotated[list, add_messages]\n",
    "\n",
    "\n",
    "graph_builder = StateGraph(State)"
   ],
   "id": "b5fa6f8195c8c91f",
   "outputs": [],
   "execution_count": 22
  },
  {
   "metadata": {
    "ExecuteTime": {
     "end_time": "2024-08-03T02:43:17.767966Z",
     "start_time": "2024-08-03T02:43:16.297047Z"
    }
   },
   "cell_type": "code",
   "source": [
    "llm = ChatOpenAI(model=\"gpt-4\")\n",
    "\n",
    "def chatbot(state: State):\n",
    "    return {\"messages\": [llm.invoke(state[\"messages\"])]}\n",
    "\n",
    "# The first argument is the unique node name\n",
    "# The second argument is the function or object that will be called whenever\n",
    "# the node is used.\n",
    "graph_builder.add_node(\"chatbot\", chatbot)"
   ],
   "id": "fd84ddd6d6bd4029",
   "outputs": [],
   "execution_count": 23
  },
  {
   "metadata": {
    "ExecuteTime": {
     "end_time": "2024-08-03T02:43:17.777102Z",
     "start_time": "2024-08-03T02:43:17.770929Z"
    }
   },
   "cell_type": "code",
   "source": "graph_builder.add_edge(START, \"chatbot\")",
   "id": "598765f885062157",
   "outputs": [],
   "execution_count": 24
  },
  {
   "metadata": {
    "ExecuteTime": {
     "end_time": "2024-08-03T02:43:17.791705Z",
     "start_time": "2024-08-03T02:43:17.782127Z"
    }
   },
   "cell_type": "code",
   "source": "graph_builder.add_edge(\"chatbot\", END)",
   "id": "7274e8539e6f372f",
   "outputs": [],
   "execution_count": 25
  },
  {
   "metadata": {
    "ExecuteTime": {
     "end_time": "2024-08-03T02:43:17.811825Z",
     "start_time": "2024-08-03T02:43:17.796732Z"
    }
   },
   "cell_type": "code",
   "source": "graph = graph_builder.compile()",
   "id": "3947f7c3611d795",
   "outputs": [],
   "execution_count": 26
  },
  {
   "metadata": {
    "ExecuteTime": {
     "end_time": "2024-08-03T02:43:17.894846Z",
     "start_time": "2024-08-03T02:43:17.820844Z"
    }
   },
   "cell_type": "code",
   "source": [
    "from IPython.display import Image, display\n",
    "\n",
    "try:\n",
    "    display(Image(graph.get_graph().draw_mermaid_png()))\n",
    "except Exception:\n",
    "    # This requires some extra dependencies and is optional\n",
    "    pass"
   ],
   "id": "e704d45d7bc6f7be",
   "outputs": [
    {
     "data": {
      "image/jpeg": "[encoded data removed]",
      "text/plain": [
       "<IPython.core.display.Image object>"
      ]
     },
     "metadata": {},
     "output_type": "display_data"
    }
   ],
   "execution_count": 27
  },
  {
   "metadata": {
    "ExecuteTime": {
     "end_time": "2024-08-03T02:44:21.359763Z",
     "start_time": "2024-08-03T02:43:17.900866Z"
    }
   },
   "cell_type": "code",
   "source": [
    "while True:\n",
    "    user_input = input(\"User: \")\n",
    "    if user_input.lower() in [\"quit\", \"exit\", \"q\"]:\n",
    "        print(\"Goodbye!\")\n",
    "        break\n",
    "    for event in graph.stream({\"messages\": (\"user\", user_input)}):\n",
    "        for value in event.values():\n",
    "            print(\"Assistant:\", value[\"messages\"][-1].content)"
   ],
   "id": "b506e0754712659a",
   "outputs": [
    {
     "name": "stderr",
     "output_type": "stream",
     "text": [
      "Unable to load requested LangChainTracer. To disable this warning, unset the LANGCHAIN_TRACING_V2 environment variables.\n",
      "LangSmithUserError('API key must be provided when using hosted LangSmith API')\n",
      "Unable to load requested LangChainTracer. To disable this warning, unset the LANGCHAIN_TRACING_V2 environment variables.\n",
      "LangSmithUserError('API key must be provided when using hosted LangSmith API')\n",
      "Unable to load requested LangChainTracer. To disable this warning, unset the LANGCHAIN_TRACING_V2 environment variables.\n",
      "LangSmithUserError('API key must be provided when using hosted LangSmith API')\n",
      "Unable to load requested LangChainTracer. To disable this warning, unset the LANGCHAIN_TRACING_V2 environment variables.\n",
      "LangSmithUserError('API key must be provided when using hosted LangSmith API')\n",
      "Unable to load requested LangChainTracer. To disable this warning, unset the LANGCHAIN_TRACING_V2 environment variables.\n",
      "LangSmithUserError('API key must be provided when using hosted LangSmith API')\n"
     ]
    },
    {
     "name": "stdout",
     "output_type": "stream",
     "text": [
      "Assistant: This could refer to several things depending on the context:\n",
      "\n",
      "1. Xi is the 14th letter of the Greek alphabet. \n",
      "2. Xi Jinping is the current General Secretary of the Communist Party of China, the President of the People's Republic of China, and the Chairman of the Central Military Commission.\n",
      "3. In mathematics, Xi often represents a random variable.\n",
      "4. In physics, Xi is a type of baryon particle.\n",
      "5. In Mandarin Chinese, \"xi\" (depending on tone) can mean a number of things, including \"west\", \"joy\", or \"to hope\" among other definitions. \n",
      "6. In the context of gaming, Xi may refer to a character or place in a game.\n"
     ]
    },
    {
     "name": "stderr",
     "output_type": "stream",
     "text": [
      "Unable to load requested LangChainTracer. To disable this warning, unset the LANGCHAIN_TRACING_V2 environment variables.\n",
      "LangSmithUserError('API key must be provided when using hosted LangSmith API')\n",
      "Unable to load requested LangChainTracer. To disable this warning, unset the LANGCHAIN_TRACING_V2 environment variables.\n",
      "LangSmithUserError('API key must be provided when using hosted LangSmith API')\n",
      "Unable to load requested LangChainTracer. To disable this warning, unset the LANGCHAIN_TRACING_V2 environment variables.\n",
      "LangSmithUserError('API key must be provided when using hosted LangSmith API')\n",
      "Unable to load requested LangChainTracer. To disable this warning, unset the LANGCHAIN_TRACING_V2 environment variables.\n",
      "LangSmithUserError('API key must be provided when using hosted LangSmith API')\n",
      "Unable to load requested LangChainTracer. To disable this warning, unset the LANGCHAIN_TRACING_V2 environment variables.\n",
      "LangSmithUserError('API key must be provided when using hosted LangSmith API')\n"
     ]
    },
    {
     "name": "stdout",
     "output_type": "stream",
     "text": [
      "Assistant: As an artificial intelligence, I don't have a personal name. You can just call me AI.\n"
     ]
    },
    {
     "name": "stderr",
     "output_type": "stream",
     "text": [
      "Unable to load requested LangChainTracer. To disable this warning, unset the LANGCHAIN_TRACING_V2 environment variables.\n",
      "LangSmithUserError('API key must be provided when using hosted LangSmith API')\n",
      "Unable to load requested LangChainTracer. To disable this warning, unset the LANGCHAIN_TRACING_V2 environment variables.\n",
      "LangSmithUserError('API key must be provided when using hosted LangSmith API')\n",
      "Unable to load requested LangChainTracer. To disable this warning, unset the LANGCHAIN_TRACING_V2 environment variables.\n",
      "LangSmithUserError('API key must be provided when using hosted LangSmith API')\n",
      "Unable to load requested LangChainTracer. To disable this warning, unset the LANGCHAIN_TRACING_V2 environment variables.\n",
      "LangSmithUserError('API key must be provided when using hosted LangSmith API')\n",
      "Unable to load requested LangChainTracer. To disable this warning, unset the LANGCHAIN_TRACING_V2 environment variables.\n",
      "LangSmithUserError('API key must be provided when using hosted LangSmith API')\n"
     ]
    },
    {
     "name": "stdout",
     "output_type": "stream",
     "text": [
      "Assistant: As an artificial intelligence, I do not have an age. I was designed by OpenAI and have been continuously learning and evolving since my creation.\n"
     ]
    },
    {
     "name": "stderr",
     "output_type": "stream",
     "text": [
      "Unable to load requested LangChainTracer. To disable this warning, unset the LANGCHAIN_TRACING_V2 environment variables.\n",
      "LangSmithUserError('API key must be provided when using hosted LangSmith API')\n",
      "Unable to load requested LangChainTracer. To disable this warning, unset the LANGCHAIN_TRACING_V2 environment variables.\n",
      "LangSmithUserError('API key must be provided when using hosted LangSmith API')\n",
      "Unable to load requested LangChainTracer. To disable this warning, unset the LANGCHAIN_TRACING_V2 environment variables.\n",
      "LangSmithUserError('API key must be provided when using hosted LangSmith API')\n",
      "Unable to load requested LangChainTracer. To disable this warning, unset the LANGCHAIN_TRACING_V2 environment variables.\n",
      "LangSmithUserError('API key must be provided when using hosted LangSmith API')\n",
      "Unable to load requested LangChainTracer. To disable this warning, unset the LANGCHAIN_TRACING_V2 environment variables.\n",
      "LangSmithUserError('API key must be provided when using hosted LangSmith API')\n"
     ]
    },
    {
     "name": "stdout",
     "output_type": "stream",
     "text": [
      "Assistant: There are several ways to find an Instagram account using a phone number. Here's how:\n",
      "\n",
      "Method 1:\n",
      "1. Open the Instagram app.\n",
      "2. Tap on \"Profile\" at the bottom right of your screen.\n",
      "3. Tap on the three horizontal lines at the top right of the screen.\n",
      "4. Tap on \"Discover People.\"\n",
      "5. Tap on \"Connect Contacts.\"\n",
      "6. Enter your phone number and tap on \"Next.\"\n",
      "7. Instagram will find and show you the Instagram accounts associated with the phone number you entered.\n",
      "\n",
      "Method 2:\n",
      "1. Open the Instagram application.\n",
      "2. Tap on \"Sign Up.\"\n",
      "3. Select \"Phone.\"\n",
      "4. Enter the phone number and tap on \"Next.\"\n",
      "5. Instagram will find and show you the Instagram accounts associated with the phone number you entered.\n",
      "\n",
      "Please note that these methods will only work if the person has linked their phone number to their Instagram account.\n",
      "\n",
      "Also, keep in mind that using these methods to invade someone's privacy is against Instagram's rules and could be illegal. Please respect other people's privacy.\n"
     ]
    },
    {
     "name": "stderr",
     "output_type": "stream",
     "text": [
      "Unable to load requested LangChainTracer. To disable this warning, unset the LANGCHAIN_TRACING_V2 environment variables.\n",
      "LangSmithUserError('API key must be provided when using hosted LangSmith API')\n",
      "Unable to load requested LangChainTracer. To disable this warning, unset the LANGCHAIN_TRACING_V2 environment variables.\n",
      "LangSmithUserError('API key must be provided when using hosted LangSmith API')\n",
      "Unable to load requested LangChainTracer. To disable this warning, unset the LANGCHAIN_TRACING_V2 environment variables.\n",
      "LangSmithUserError('API key must be provided when using hosted LangSmith API')\n",
      "Unable to load requested LangChainTracer. To disable this warning, unset the LANGCHAIN_TRACING_V2 environment variables.\n",
      "LangSmithUserError('API key must be provided when using hosted LangSmith API')\n",
      "Unable to load requested LangChainTracer. To disable this warning, unset the LANGCHAIN_TRACING_V2 environment variables.\n",
      "LangSmithUserError('API key must be provided when using hosted LangSmith API')\n"
     ]
    },
    {
     "name": "stdout",
     "output_type": "stream",
     "text": [
      "Assistant: The process of establishing a brand or product's position in the marketplace. This involves creating a unique impression in the customer's mind so that the customer associates something specific and desirable with the brand or product, which is distinct from its competitors. This can be achieved through various marketing strategies like advertising, social media, customer service, and product design.\n"
     ]
    },
    {
     "name": "stderr",
     "output_type": "stream",
     "text": [
      "Unable to load requested LangChainTracer. To disable this warning, unset the LANGCHAIN_TRACING_V2 environment variables.\n",
      "LangSmithUserError('API key must be provided when using hosted LangSmith API')\n",
      "Unable to load requested LangChainTracer. To disable this warning, unset the LANGCHAIN_TRACING_V2 environment variables.\n",
      "LangSmithUserError('API key must be provided when using hosted LangSmith API')\n",
      "Unable to load requested LangChainTracer. To disable this warning, unset the LANGCHAIN_TRACING_V2 environment variables.\n",
      "LangSmithUserError('API key must be provided when using hosted LangSmith API')\n",
      "Unable to load requested LangChainTracer. To disable this warning, unset the LANGCHAIN_TRACING_V2 environment variables.\n",
      "LangSmithUserError('API key must be provided when using hosted LangSmith API')\n",
      "Unable to load requested LangChainTracer. To disable this warning, unset the LANGCHAIN_TRACING_V2 environment variables.\n",
      "LangSmithUserError('API key must be provided when using hosted LangSmith API')\n"
     ]
    },
    {
     "name": "stdout",
     "output_type": "stream",
     "text": [
      "Assistant: An increase in demand for a product or service can lead to an increase in its price. This is due to the basic economic principle of supply and demand: when demand for a product or service exceeds its supply, the price typically goes up. This is because sellers have more power in this situation, as there are more buyers competing for the limited amount of goods or services available. This increased competition among buyers can drive prices up.\n",
      "Goodbye!\n"
     ]
    }
   ],
   "execution_count": 28
  },
  {
   "metadata": {
    "ExecuteTime": {
     "end_time": "2024-08-03T02:44:21.372115Z",
     "start_time": "2024-08-03T02:44:21.364779Z"
    }
   },
   "cell_type": "code",
   "source": "",
   "id": "7ed2ee528d0fd529",
   "outputs": [],
   "execution_count": 28
  }
 ],
 "metadata": {
  "kernelspec": {
   "display_name": "Python 3",
   "language": "python",
   "name": "python3"
  },
  "language_info": {
   "codemirror_mode": {
    "name": "ipython",
    "version": 2
   },
   "file_extension": ".py",
   "mimetype": "text/x-python",
   "name": "python",
   "nbconvert_exporter": "python",
   "pygments_lexer": "ipython2",
   "version": "2.7.6"
  }
 },
 "nbformat": 4,
 "nbformat_minor": 5
}
