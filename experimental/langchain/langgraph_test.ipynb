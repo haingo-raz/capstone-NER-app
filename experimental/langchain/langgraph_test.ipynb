{
 "cells": [
  {
   "metadata": {},
   "cell_type": "code",
   "outputs": [],
   "execution_count": null,
   "source": [
    "# %%capture --no-stderr\n",
    "#%pip install -U langgraph langsmith\n",
    "\n",
    "# Used for this tutorial; not a requirement for LangGraph\n",
    "#%pip install openai langchain"
   ],
   "id": "3f99874cf1131da"
  },
  {
   "metadata": {
    "ExecuteTime": {
     "end_time": "2024-08-03T01:21:30.261151Z",
     "start_time": "2024-08-03T01:21:14.739368Z"
    }
   },
   "cell_type": "code",
   "source": "#%pip install --upgrade openai langchain",
   "id": "62f3f52562af3b0d",
   "outputs": [
    {
     "name": "stdout",
     "output_type": "stream",
     "text": [
      "Requirement already satisfied: openai in c:\\users\\xipan\\anaconda3\\envs\\capstone\\lib\\site-packages (1.35.10)\n",
      "Collecting openai\n",
      "  Downloading openai-1.38.0-py3-none-any.whl.metadata (22 kB)\n",
      "Requirement already satisfied: langchain in c:\\users\\xipan\\anaconda3\\envs\\capstone\\lib\\site-packages (0.2.12)\n",
      "Requirement already satisfied: anyio<5,>=3.5.0 in c:\\users\\xipan\\anaconda3\\envs\\capstone\\lib\\site-packages (from openai) (4.2.0)\n",
      "Requirement already satisfied: distro<2,>=1.7.0 in c:\\users\\xipan\\anaconda3\\envs\\capstone\\lib\\site-packages (from openai) (1.9.0)\n",
      "Requirement already satisfied: httpx<1,>=0.23.0 in c:\\users\\xipan\\anaconda3\\envs\\capstone\\lib\\site-packages (from openai) (0.26.0)\n",
      "Requirement already satisfied: pydantic<3,>=1.9.0 in c:\\users\\xipan\\anaconda3\\envs\\capstone\\lib\\site-packages (from openai) (2.5.3)\n",
      "Requirement already satisfied: sniffio in c:\\users\\xipan\\anaconda3\\envs\\capstone\\lib\\site-packages (from openai) (1.3.0)\n",
      "Requirement already satisfied: tqdm>4 in c:\\users\\xipan\\anaconda3\\envs\\capstone\\lib\\site-packages (from openai) (4.66.4)\n",
      "Requirement already satisfied: typing-extensions<5,>=4.7 in c:\\users\\xipan\\anaconda3\\envs\\capstone\\lib\\site-packages (from openai) (4.11.0)\n",
      "Requirement already satisfied: PyYAML>=5.3 in c:\\users\\xipan\\anaconda3\\envs\\capstone\\lib\\site-packages (from langchain) (6.0.1)\n",
      "Requirement already satisfied: SQLAlchemy<3,>=1.4 in c:\\users\\xipan\\anaconda3\\envs\\capstone\\lib\\site-packages (from langchain) (2.0.31)\n",
      "Requirement already satisfied: aiohttp<4.0.0,>=3.8.3 in c:\\users\\xipan\\anaconda3\\envs\\capstone\\lib\\site-packages (from langchain) (3.10.0)\n",
      "Requirement already satisfied: langchain-core<0.3.0,>=0.2.27 in c:\\users\\xipan\\anaconda3\\envs\\capstone\\lib\\site-packages (from langchain) (0.2.28)\n",
      "Requirement already satisfied: langchain-text-splitters<0.3.0,>=0.2.0 in c:\\users\\xipan\\anaconda3\\envs\\capstone\\lib\\site-packages (from langchain) (0.2.2)\n",
      "Requirement already satisfied: langsmith<0.2.0,>=0.1.17 in c:\\users\\xipan\\anaconda3\\envs\\capstone\\lib\\site-packages (from langchain) (0.1.96)\n",
      "Requirement already satisfied: numpy<2,>=1 in c:\\users\\xipan\\anaconda3\\envs\\capstone\\lib\\site-packages (from langchain) (1.26.4)\n",
      "Requirement already satisfied: requests<3,>=2 in c:\\users\\xipan\\anaconda3\\envs\\capstone\\lib\\site-packages (from langchain) (2.32.2)\n",
      "Requirement already satisfied: tenacity!=8.4.0,<9.0.0,>=8.1.0 in c:\\users\\xipan\\anaconda3\\envs\\capstone\\lib\\site-packages (from langchain) (8.2.2)\n",
      "Requirement already satisfied: aiohappyeyeballs>=2.3.0 in c:\\users\\xipan\\anaconda3\\envs\\capstone\\lib\\site-packages (from aiohttp<4.0.0,>=3.8.3->langchain) (2.3.4)\n",
      "Requirement already satisfied: aiosignal>=1.1.2 in c:\\users\\xipan\\anaconda3\\envs\\capstone\\lib\\site-packages (from aiohttp<4.0.0,>=3.8.3->langchain) (1.3.1)\n",
      "Requirement already satisfied: attrs>=17.3.0 in c:\\users\\xipan\\anaconda3\\envs\\capstone\\lib\\site-packages (from aiohttp<4.0.0,>=3.8.3->langchain) (23.1.0)\n",
      "Requirement already satisfied: frozenlist>=1.1.1 in c:\\users\\xipan\\anaconda3\\envs\\capstone\\lib\\site-packages (from aiohttp<4.0.0,>=3.8.3->langchain) (1.4.1)\n",
      "Requirement already satisfied: multidict<7.0,>=4.5 in c:\\users\\xipan\\anaconda3\\envs\\capstone\\lib\\site-packages (from aiohttp<4.0.0,>=3.8.3->langchain) (6.0.5)\n",
      "Requirement already satisfied: yarl<2.0,>=1.0 in c:\\users\\xipan\\anaconda3\\envs\\capstone\\lib\\site-packages (from aiohttp<4.0.0,>=3.8.3->langchain) (1.9.4)\n",
      "Requirement already satisfied: idna>=2.8 in c:\\users\\xipan\\anaconda3\\envs\\capstone\\lib\\site-packages (from anyio<5,>=3.5.0->openai) (3.7)\n",
      "Requirement already satisfied: certifi in c:\\users\\xipan\\anaconda3\\envs\\capstone\\lib\\site-packages (from httpx<1,>=0.23.0->openai) (2024.7.4)\n",
      "Requirement already satisfied: httpcore==1.* in c:\\users\\xipan\\anaconda3\\envs\\capstone\\lib\\site-packages (from httpx<1,>=0.23.0->openai) (1.0.2)\n",
      "Requirement already satisfied: h11<0.15,>=0.13 in c:\\users\\xipan\\anaconda3\\envs\\capstone\\lib\\site-packages (from httpcore==1.*->httpx<1,>=0.23.0->openai) (0.14.0)\n",
      "Requirement already satisfied: jsonpatch<2.0,>=1.33 in c:\\users\\xipan\\anaconda3\\envs\\capstone\\lib\\site-packages (from langchain-core<0.3.0,>=0.2.27->langchain) (1.33)\n",
      "Requirement already satisfied: packaging<25,>=23.2 in c:\\users\\xipan\\anaconda3\\envs\\capstone\\lib\\site-packages (from langchain-core<0.3.0,>=0.2.27->langchain) (23.2)\n",
      "Requirement already satisfied: orjson<4.0.0,>=3.9.14 in c:\\users\\xipan\\anaconda3\\envs\\capstone\\lib\\site-packages (from langsmith<0.2.0,>=0.1.17->langchain) (3.10.6)\n",
      "Requirement already satisfied: annotated-types>=0.4.0 in c:\\users\\xipan\\anaconda3\\envs\\capstone\\lib\\site-packages (from pydantic<3,>=1.9.0->openai) (0.6.0)\n",
      "Requirement already satisfied: pydantic-core==2.14.6 in c:\\users\\xipan\\anaconda3\\envs\\capstone\\lib\\site-packages (from pydantic<3,>=1.9.0->openai) (2.14.6)\n",
      "Requirement already satisfied: charset-normalizer<4,>=2 in c:\\users\\xipan\\anaconda3\\envs\\capstone\\lib\\site-packages (from requests<3,>=2->langchain) (2.0.4)\n",
      "Requirement already satisfied: urllib3<3,>=1.21.1 in c:\\users\\xipan\\anaconda3\\envs\\capstone\\lib\\site-packages (from requests<3,>=2->langchain) (2.2.1)\n",
      "Requirement already satisfied: greenlet!=0.4.17 in c:\\users\\xipan\\anaconda3\\envs\\capstone\\lib\\site-packages (from SQLAlchemy<3,>=1.4->langchain) (3.0.3)\n",
      "Requirement already satisfied: colorama in c:\\users\\xipan\\anaconda3\\envs\\capstone\\lib\\site-packages (from tqdm>4->openai) (0.4.6)\n",
      "Requirement already satisfied: jsonpointer>=1.9 in c:\\users\\xipan\\anaconda3\\envs\\capstone\\lib\\site-packages (from jsonpatch<2.0,>=1.33->langchain-core<0.3.0,>=0.2.27->langchain) (3.0.0)\n",
      "Downloading openai-1.38.0-py3-none-any.whl (335 kB)\n",
      "   ---------------------------------------- 0.0/335.9 kB ? eta -:--:--\n",
      "   - -------------------------------------- 10.2/335.9 kB ? eta -:--:--\n",
      "   ---- ---------------------------------- 41.0/335.9 kB 495.5 kB/s eta 0:00:01\n",
      "   ---------------------------- ----------- 235.5/335.9 kB 2.4 MB/s eta 0:00:01\n",
      "   ---------------------------------------- 335.9/335.9 kB 2.6 MB/s eta 0:00:00\n",
      "Installing collected packages: openai\n",
      "  Attempting uninstall: openai\n",
      "    Found existing installation: openai 1.35.10\n",
      "    Uninstalling openai-1.35.10:\n",
      "      Successfully uninstalled openai-1.35.10\n",
      "Successfully installed openai-1.38.0\n",
      "Note: you may need to restart the kernel to use updated packages.\n"
     ]
    }
   ],
   "execution_count": 3
  },
  {
   "metadata": {
    "ExecuteTime": {
     "end_time": "2024-08-09T15:18:39.888404Z",
     "start_time": "2024-08-09T15:18:39.877514Z"
    }
   },
   "cell_type": "code",
   "source": [
    "import getpass\n",
    "import os\n",
    "from langchain_openai import ChatOpenAI\n",
    "from typing import List\n",
    "\n",
    "from langchain_core.messages import SystemMessage\n",
    "from langchain_core.pydantic_v1 import BaseModel\n",
    "\n",
    "os.environ[\"OPENAI_API_KEY\"] = os.getenv(\"OPENAI_API_KEY\")"
   ],
   "id": "f29ab1d76ed5ee25",
   "outputs": [],
   "execution_count": 12
  },
  {
   "metadata": {
    "ExecuteTime": {
     "end_time": "2024-08-03T02:43:16.247358Z",
     "start_time": "2024-08-03T02:43:14.055738Z"
    }
   },
   "cell_type": "code",
   "source": [
    "_set_env(\"LANGSMITH_API_KEY\")\n",
    "os.environ[\"LANGCHAIN_TRACING_V2\"] = \"true\"\n",
    "os.environ[\"LANGCHAIN_PROJECT\"] = \"LangGraph Tutorial\""
   ],
   "id": "ddabbb4bd295f2ba",
   "outputs": [],
   "execution_count": 21
  },
  {
   "metadata": {
    "ExecuteTime": {
     "end_time": "2024-08-09T15:18:43.090170Z",
     "start_time": "2024-08-09T15:18:43.073834Z"
    }
   },
   "cell_type": "code",
   "source": [
    "from typing import Annotated\n",
    "\n",
    "from typing_extensions import TypedDict\n",
    "\n",
    "from langgraph.graph import StateGraph, START, END\n",
    "from langgraph.graph.message import add_messages\n",
    "\n",
    "\n",
    "class State(TypedDict):\n",
    "    # Messages have the type \"list\". The `add_messages` function\n",
    "    # in the annotation defines how this state key should be updated\n",
    "    # (in this case, it appends messages to the list, rather than overwriting them)\n",
    "    messages: Annotated[list, add_messages]\n",
    "\n",
    "\n",
    "graph_builder = StateGraph(State)"
   ],
   "id": "b5fa6f8195c8c91f",
   "outputs": [],
   "execution_count": 13
  },
  {
   "metadata": {
    "ExecuteTime": {
     "end_time": "2024-08-09T15:18:47.998560Z",
     "start_time": "2024-08-09T15:18:45.412299Z"
    }
   },
   "cell_type": "code",
   "source": [
    "template = \"\"\"Your job is to get information from a user about what type of prompt template they want to create.\n",
    "\n",
    "You should get the following information from them:\n",
    "\n",
    "- What the objective of the prompt is\n",
    "- What variables will be passed into the prompt template\n",
    "- Any constraints for what the output should NOT do\n",
    "- Any requirements that the output MUST adhere to\n",
    "\n",
    "If you are not able to discern this info, ask them to clarify! Do not attempt to wildly guess.\n",
    "\n",
    "After you are able to discern all the information, call the relevant tool.\"\"\"\n",
    "\n",
    "\n",
    "def get_messages_info(messages):\n",
    "    return [SystemMessage(content=template)] + messages\n",
    "\n",
    "\n",
    "class PromptInstructions(BaseModel):\n",
    "    \"\"\"Instructions on how to prompt the LLM.\"\"\"\n",
    "\n",
    "    objective: str\n",
    "    variables: List[str]\n",
    "    constraints: List[str]\n",
    "    requirements: List[str]\n",
    "\n",
    "\n",
    "llm = ChatOpenAI(model=\"gpt-4o\", temperature=0)\n",
    "llm_with_tool = llm.bind_tools([PromptInstructions])\n",
    "\n",
    "chain = get_messages_info | llm_with_tool"
   ],
   "id": "d5609147a543ab33",
   "outputs": [],
   "execution_count": 14
  },
  {
   "metadata": {
    "ExecuteTime": {
     "end_time": "2024-08-09T15:18:50.836832Z",
     "start_time": "2024-08-09T15:18:50.823651Z"
    }
   },
   "cell_type": "code",
   "source": [
    "from langchain_core.messages import AIMessage, HumanMessage, ToolMessage\n",
    "\n",
    "# New system prompt\n",
    "prompt_system = \"\"\"Based on the following requirements, write a good prompt template:\n",
    "\n",
    "{reqs}\"\"\"\n",
    "\n",
    "\n",
    "# Function to get the messages for the prompt\n",
    "# Will only get messages AFTER the tool call\n",
    "def get_prompt_messages(messages: list):\n",
    "    tool_call = None\n",
    "    other_msgs = []\n",
    "    for m in messages:\n",
    "        if isinstance(m, AIMessage) and m.tool_calls:\n",
    "            tool_call = m.tool_calls[0][\"args\"]\n",
    "        elif isinstance(m, ToolMessage):\n",
    "            continue\n",
    "        elif tool_call is not None:\n",
    "            other_msgs.append(m)\n",
    "    return [SystemMessage(content=prompt_system.format(reqs=tool_call))] + other_msgs\n",
    "\n",
    "\n",
    "prompt_gen_chain = get_prompt_messages | llm"
   ],
   "id": "2ba0e35fb8a438fd",
   "outputs": [],
   "execution_count": 15
  },
  {
   "metadata": {
    "ExecuteTime": {
     "end_time": "2024-08-09T14:49:33.834096Z",
     "start_time": "2024-08-09T14:49:32.204798Z"
    }
   },
   "cell_type": "code",
   "source": [
    "#def chatbot(state: State):\n",
    "    #return {\"messages\": [llm.invoke(state[\"messages\"])]}\n",
    "\n",
    "# The first argument is the unique node name\n",
    "# The second argument is the function or object that will be called whenever\n",
    "# the node is used.\n",
    "#graph_builder.add_node(\"chatbot\", chatbot)"
   ],
   "id": "fd84ddd6d6bd4029",
   "outputs": [],
   "execution_count": 4
  },
  {
   "metadata": {
    "ExecuteTime": {
     "end_time": "2024-08-09T14:49:36.622016Z",
     "start_time": "2024-08-09T14:49:36.613011Z"
    }
   },
   "cell_type": "code",
   "source": "#graph_builder.add_edge(START, \"chatbot\")",
   "id": "598765f885062157",
   "outputs": [],
   "execution_count": 5
  },
  {
   "metadata": {
    "ExecuteTime": {
     "end_time": "2024-08-09T14:49:38.552090Z",
     "start_time": "2024-08-09T14:49:38.542066Z"
    }
   },
   "cell_type": "code",
   "source": "#graph_builder.add_edge(\"chatbot\", END)",
   "id": "7274e8539e6f372f",
   "outputs": [],
   "execution_count": 6
  },
  {
   "metadata": {
    "ExecuteTime": {
     "end_time": "2024-08-09T14:49:40.421809Z",
     "start_time": "2024-08-09T14:49:40.408308Z"
    }
   },
   "cell_type": "code",
   "source": "#graph = graph_builder.compile()",
   "id": "3947f7c3611d795",
   "outputs": [],
   "execution_count": 7
  },
  {
   "metadata": {
    "ExecuteTime": {
     "end_time": "2024-08-09T15:18:54.979983Z",
     "start_time": "2024-08-09T15:18:54.969684Z"
    }
   },
   "cell_type": "code",
   "source": [
    "from typing import Literal\n",
    "\n",
    "from langgraph.graph import END\n",
    "\n",
    "\n",
    "def get_state(messages) -> Literal[\"add_tool_message\", \"info\", \"__end__\"]:\n",
    "    if isinstance(messages[-1], AIMessage) and messages[-1].tool_calls:\n",
    "        return \"add_tool_message\"\n",
    "    elif not isinstance(messages[-1], HumanMessage):\n",
    "        return END\n",
    "    return \"info\""
   ],
   "id": "6105b73030d1410b",
   "outputs": [],
   "execution_count": 16
  },
  {
   "metadata": {
    "ExecuteTime": {
     "end_time": "2024-08-09T15:18:58.238961Z",
     "start_time": "2024-08-09T15:18:58.221360Z"
    }
   },
   "cell_type": "code",
   "source": [
    "from langgraph.checkpoint.memory import MemorySaver\n",
    "from langgraph.graph import START, MessageGraph\n",
    "\n",
    "memory = MemorySaver()\n",
    "workflow = MessageGraph()\n",
    "workflow.add_node(\"info\", chain)\n",
    "workflow.add_node(\"prompt\", prompt_gen_chain)\n",
    "\n",
    "\n",
    "@workflow.add_node\n",
    "def add_tool_message(state: list):\n",
    "    return ToolMessage(\n",
    "        content=\"Prompt generated!\", tool_call_id=state[-1].tool_calls[0][\"id\"]\n",
    "    )\n",
    "\n",
    "\n",
    "workflow.add_conditional_edges(\"info\", get_state)\n",
    "workflow.add_edge(\"add_tool_message\", \"prompt\")\n",
    "workflow.add_edge(\"prompt\", END)\n",
    "workflow.add_edge(START, \"info\")\n",
    "graph = workflow.compile(checkpointer=memory)"
   ],
   "id": "3a3d108f098b430f",
   "outputs": [],
   "execution_count": 17
  },
  {
   "metadata": {
    "ExecuteTime": {
     "end_time": "2024-08-09T15:19:01.861253Z",
     "start_time": "2024-08-09T15:19:01.778270Z"
    }
   },
   "cell_type": "code",
   "source": [
    "from IPython.display import Image, display\n",
    "\n",
    "try:\n",
    "    display(Image(graph.get_graph().draw_mermaid_png()))\n",
    "except Exception:\n",
    "    # This requires some extra dependencies and is optional\n",
    "    pass"
   ],
   "id": "e704d45d7bc6f7be",
   "outputs": [
    {
     "data": {
      "image/jpeg": "[encoded data removed]",
      "text/plain": [
       "<IPython.core.display.Image object>"
      ]
     },
     "metadata": {},
     "output_type": "display_data"
    }
   ],
   "execution_count": 18
  },
  {
   "metadata": {
    "ExecuteTime": {
     "end_time": "2024-08-09T15:21:36.938519Z",
     "start_time": "2024-08-09T15:19:35.705626Z"
    }
   },
   "cell_type": "code",
   "source": [
    "import uuid\n",
    "\n",
    "config = {\"configurable\": {\"thread_id\": str(uuid.uuid4())}}\n",
    "while True:\n",
    "    user = input(\"User (q/Q to quit): \")\n",
    "    if user in {\"q\", \"Q\"}:\n",
    "        print(\"AI: Byebye\")\n",
    "        break\n",
    "    output = None\n",
    "    for output in graph.stream(\n",
    "            [HumanMessage(content=user)], config=config, stream_mode=\"updates\"\n",
    "    ):\n",
    "        last_message = next(iter(output.values()))\n",
    "        last_message.pretty_print()\n",
    "\n",
    "    if output and \"prompt\" in output:\n",
    "        print(\"Done!\")"
   ],
   "id": "197fbf694c3510cd",
   "outputs": [
    {
     "name": "stdout",
     "output_type": "stream",
     "text": [
      "==================================\u001B[1m Ai Message \u001B[0m==================================\n",
      "\n",
      "Hi Tracy! I'd be happy to help you create a prompt template. To get started, could you please provide some details?\n",
      "\n",
      "1. What is the objective of the prompt?\n",
      "2. What variables will be passed into the prompt template?\n",
      "3. Are there any constraints for what the output should NOT do?\n",
      "4. Are there any requirements that the output MUST adhere to?\n",
      "\n",
      "Feel free to provide as much detail as possible!\n",
      "==================================\u001B[1m Ai Message \u001B[0m==================================\n",
      "\n",
      "It sounds like you might have some specific ideas in mind. Could you please clarify the following details for me?\n",
      "\n",
      "1. What is the objective of the prompt? (e.g., generating a story, answering a question, summarizing text, etc.)\n",
      "2. What variables will be passed into the prompt template? (e.g., names, dates, topics, etc.)\n",
      "3. Are there any constraints for what the output should NOT do? (e.g., avoid certain topics, not exceed a certain length, etc.)\n",
      "4. Are there any requirements that the output MUST adhere to? (e.g., include specific information, follow a certain format, etc.)\n",
      "\n",
      "This information will help me create the perfect prompt template for you!\n",
      "==================================\u001B[1m Ai Message \u001B[0m==================================\n",
      "\n",
      "Great! So, the objective of the prompt is to recommend games. Let's get a bit more specific:\n",
      "\n",
      "1. **Objective**: Recommending games.\n",
      "2. **Variables**: What variables will be passed into the prompt template? (e.g., genre, platform, age group, etc.)\n",
      "3. **Constraints**: Are there any constraints for what the output should NOT do? (e.g., avoid recommending games with certain content, not exceed a certain length, etc.)\n",
      "4. **Requirements**: Are there any requirements that the output MUST adhere to? (e.g., must include a brief description of the game, must mention the release year, etc.)\n",
      "\n",
      "Could you please provide details for the variables, constraints, and requirements?\n",
      "==================================\u001B[1m Ai Message \u001B[0m==================================\n",
      "\n",
      "Got it! So, the objective is to recommend Warhammer games. Let's refine the details:\n",
      "\n",
      "1. **Objective**: Recommending Warhammer games.\n",
      "2. **Variables**: What specific variables will be passed into the prompt template? (e.g., preferred game type, platform, specific Warhammer universe, etc.)\n",
      "3. **Constraints**: Are there any constraints for what the output should NOT do? (e.g., avoid recommending games with certain content, not exceed a certain length, etc.)\n",
      "4. **Requirements**: Are there any requirements that the output MUST adhere to? (e.g., must include a brief description of the game, must mention the release year, etc.)\n",
      "\n",
      "Could you please provide details for the variables, constraints, and requirements?\n",
      "==================================\u001B[1m Ai Message \u001B[0m==================================\n",
      "\n",
      "Understood! So, the objective is to recommend Warhammer games, and the output should only include the game titles. Here’s a summary:\n",
      "\n",
      "1. **Objective**: Recommending Warhammer games.\n",
      "2. **Variables**: None.\n",
      "3. **Constraints**: None.\n",
      "4. **Requirements**: The output must only include the game titles.\n",
      "\n",
      "I'll create the prompt template based on this information.\n",
      "Tool Calls:\n",
      "  PromptInstructions (call_pH4nEXeOZlGUZFpRVqnSpu1l)\n",
      " Call ID: call_pH4nEXeOZlGUZFpRVqnSpu1l\n",
      "  Args:\n",
      "    objective: Recommending Warhammer games\n",
      "    variables: []\n",
      "    constraints: []\n",
      "    requirements: ['The output must only include the game titles.']\n",
      "=================================\u001B[1m Tool Message \u001B[0m=================================\n",
      "\n",
      "Prompt generated!\n",
      "==================================\u001B[1m Ai Message \u001B[0m==================================\n",
      "\n",
      "Please recommend some Warhammer games. The output should only include the game titles.\n",
      "Done!\n",
      "==================================\u001B[1m Ai Message \u001B[0m==================================\n",
      "\n",
      "It looks like you want to focus on Warhammer 40,000 games specifically. I'll update the prompt to reflect that.\n",
      "\n",
      "1. **Objective**: Recommending Warhammer 40,000 games.\n",
      "2. **Variables**: None.\n",
      "3. **Constraints**: None.\n",
      "4. **Requirements**: The output must only include the game titles.\n",
      "\n",
      "I'll create the updated prompt template for you.\n",
      "Tool Calls:\n",
      "  PromptInstructions (call_leFM3V9wpbnCc3kL36SJfRE1)\n",
      " Call ID: call_leFM3V9wpbnCc3kL36SJfRE1\n",
      "  Args:\n",
      "    objective: Recommending Warhammer 40,000 games\n",
      "    variables: []\n",
      "    constraints: []\n",
      "    requirements: ['The output must only include the game titles.']\n",
      "=================================\u001B[1m Tool Message \u001B[0m=================================\n",
      "\n",
      "Prompt generated!\n",
      "==================================\u001B[1m Ai Message \u001B[0m==================================\n",
      "\n",
      "Please recommend some Warhammer 40,000 games. The output should only include the game titles.\n",
      "Done!\n",
      "AI: Byebye\n"
     ]
    }
   ],
   "execution_count": 19
  },
  {
   "metadata": {
    "ExecuteTime": {
     "end_time": "2024-08-09T14:50:15.084651Z",
     "start_time": "2024-08-09T14:49:52.141262Z"
    }
   },
   "cell_type": "code",
   "source": [
    "while True:\n",
    "    user_input = input(\"User: \")\n",
    "    if user_input.lower() in [\"quit\", \"exit\", \"q\"]:\n",
    "        print(\"Goodbye!\")\n",
    "        break\n",
    "    for event in graph.stream({\"messages\": (\"user\", user_input)}):\n",
    "        for value in event.values():\n",
    "            print(\"Assistant:\", value[\"messages\"][-1].content)"
   ],
   "id": "b506e0754712659a",
   "outputs": [
    {
     "name": "stdout",
     "output_type": "stream",
     "text": [
      "Assistant: Hello! How can I assist you today?\n",
      "Assistant: It looks like you might be referring to a term or a concept that isn't fully clear. \"Jason ID\" could mean different things depending on the context. Here are a few possibilities:\n",
      "\n",
      "1. **Jason-1 Satellite**: Jason-1 was a satellite mission jointly operated by NASA and the French space agency CNES. If you're looking for information related to Jason-1, such as its mission ID or specific data, that would be more context-specific.\n",
      "\n",
      "2. **Jason Group**: The JASON Defense Advisory Group, often simply referred to as \"JASON,\" is a group of elite scientists that advise the U.S. government on matters of science and technology. An \"ID\" in this context might refer to a document or identification related to the group.\n",
      "\n",
      "3. **Personal Identification**: If you’re referring to a person named Jason and asking about some form of identification, that would be a very different and much more personal context.\n",
      "\n",
      "4. **Software or Database ID**: In some software or database systems, an \"ID\" might refer to a unique identifier associated with a record or an entity named Jason.\n",
      "\n",
      "Could you please provide more details or clarify the context so I can assist you better?\n",
      "Goodbye!\n"
     ]
    }
   ],
   "execution_count": 9
  },
  {
   "metadata": {
    "ExecuteTime": {
     "end_time": "2024-08-03T02:44:21.372115Z",
     "start_time": "2024-08-03T02:44:21.364779Z"
    }
   },
   "cell_type": "code",
   "source": "",
   "id": "7ed2ee528d0fd529",
   "outputs": [],
   "execution_count": 28
  }
 ],
 "metadata": {
  "kernelspec": {
   "display_name": "Python 3",
   "language": "python",
   "name": "python3"
  },
  "language_info": {
   "codemirror_mode": {
    "name": "ipython",
    "version": 2
   },
   "file_extension": ".py",
   "mimetype": "text/x-python",
   "name": "python",
   "nbconvert_exporter": "python",
   "pygments_lexer": "ipython2",
   "version": "2.7.6"
  }
 },
 "nbformat": 4,
 "nbformat_minor": 5
}
